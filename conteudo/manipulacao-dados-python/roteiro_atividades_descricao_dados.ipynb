{
 "cells": [
  {
   "cell_type": "markdown",
   "metadata": {},
   "source": [
    "# Roteiro de Atividades - Ciências de Dados\n",
    "\n",
    "## Orientações Gerais\n",
    "\n",
    "- Utilize este roteiro de atividades para consolidar os conceitos apresentados na primeira aula sobre descrição e visualização de dados com Python. \n",
    "- Crie um novo arquivo no Google Colab e execute cada exercício em uma ou mais célular. Teste e observe os resultados antes de prosseguir para o próximo. \n",
    "- Aproveite para experimentar variações dos códigos apresentados para garantir que tenha entendido a atividade. \n",
    "- Caso encontre dificuldades, revise o material da aula correspondente ao tópico em questão. \n",
    "- Mantenha o notebook organizado com comentários explicativos sobre o que cada código faz e suas principais descobertas."
   ]
  },
  {
   "cell_type": "markdown",
   "metadata": {},
   "source": [
    "## Preparação\n",
    "\n",
    "Antes de começar, importe os pacotes necessários e carregue os dados que serão utilizados:"
   ]
  },
  {
   "cell_type": "code",
   "execution_count": null,
   "metadata": {},
   "outputs": [],
   "source": [
    "import math\n",
    "import numpy as np\n",
    "import pandas as pd\n",
    "import matplotlib.pyplot as plt\n",
    "import seaborn as sns\n",
    "from seaborn import load_dataset\n",
    "\n",
    "# Carregando iris\n",
    "iris = sns.load_dataset('iris')\n",
    "tips = sns.load_dataset('tips')"
   ]
  },
  {
   "cell_type": "markdown",
   "metadata": {},
   "source": [
    "## Parte 1: Operações Básicas e Estruturas de Dados\n",
    "\n",
    "### Exercício 1.1 - Operações Aritméticas"
   ]
  },
  {
   "cell_type": "markdown",
   "metadata": {},
   "source": [
    "1. Calcule as seguintes operações:\n",
    "   - 15 + 8\n",
    "   - 25 * 3\n",
    "   - 100 / 7 (divisão comum)\n",
    "   - 100 // 7 (divisão inteira)\n",
    "   - 100 % 7 (resto da divisão)\n",
    "   - 2**8 (potenciação)"
   ]
  },
  {
   "cell_type": "markdown",
   "metadata": {},
   "source": [
    "2. Use as funções matemáticas para calcular:\n",
    "   - Logaritmo natural de 50\n",
    "   - Logaritmo base 10 de 1000\n",
    "   - Raiz quadrada de 64\n",
    "   - Seno de π/4 (use math.pi)"
   ]
  },
  {
   "cell_type": "markdown",
   "metadata": {},
   "source": [
    "### Exercício 1.2 - Variáveis e Atribuições"
   ]
  },
  {
   "cell_type": "markdown",
   "metadata": {},
   "source": [
    "1. Crie uma variável `altura` com valor 1.75\n",
    "2. Crie uma variável `peso` com valor 70\n",
    "3. Calcule o IMC (peso / altura²) e armazene em uma variável `imc`\n",
    "4. Verifique o resultado"
   ]
  },
  {
   "cell_type": "markdown",
   "metadata": {},
   "source": [
    "### Exercício 1.3 - Listas e Arrays"
   ]
  },
  {
   "cell_type": "markdown",
   "metadata": {},
   "source": [
    "1. Crie uma lista com as idades: [23, 34, 45, 28, 31, 29]\n",
    "2. Converta essa lista em um array NumPy\n",
    "3. Multiplique todos os valores por 2 usando a lista e depois usando o array\n",
    "4. Compare os resultados obtidos"
   ]
  },
  {
   "cell_type": "markdown",
   "metadata": {},
   "source": [
    "### Exercício 1.4 - Sequências"
   ]
  },
  {
   "cell_type": "markdown",
   "metadata": {},
   "source": [
    "1. Crie uma sequência de números de 1 a 20 usando `range()`\n",
    "2. Crie um array com 7 valores igualmente espaçados entre 0 e 100 usando `np.linspace()`\n",
    "3. Repita o número 5 dez vezes usando `np.repeat()`"
   ]
  },
  {
   "cell_type": "markdown",
   "metadata": {},
   "source": [
    "## Parte 2: Explorando os Dados - Dataset Iris"
   ]
  },
  {
   "cell_type": "markdown",
   "metadata": {},
   "source": [
    "### Exercício 2.1 - Primeiras Explorações"
   ]
  },
  {
   "cell_type": "markdown",
   "metadata": {},
   "source": [
    "1. Visualize as primeiras 10 linhas do dataset iris\n",
    "2. Verifique as dimensões do dataset (shape)\n",
    "3. Examine os tipos de dados de cada coluna\n",
    "4. Verifique se há valores ausentes no dataset. Se houver, exclua este valores."
   ]
  },
  {
   "cell_type": "markdown",
   "metadata": {},
   "source": [
    "### Exercício 2.2 - Seleção e Filtragem"
   ]
  },
  {
   "cell_type": "markdown",
   "metadata": {},
   "source": [
    "1. Selecione apenas a coluna 'sepal length (cm)'\n",
    "2. Selecione as colunas 'petal length (cm)' e 'petal width (cm)' simultaneamente\n",
    "3. Selecione as linhas de 20 a 30\n",
    "4. Filtre apenas as observações da espécie 'setosa'\n",
    "5. Filtre as observações onde 'petal length (cm)' > 4.0"
   ]
  },
  {
   "cell_type": "markdown",
   "metadata": {},
   "source": [
    "## Parte 3: Estatística Descritiva - Dataset Tips"
   ]
  },
  {
   "cell_type": "markdown",
   "metadata": {},
   "source": [
    "### Exercício 3.1 - Variáveis Qualitativas"
   ]
  },
  {
   "cell_type": "markdown",
   "metadata": {},
   "source": [
    "1. Calcule a frequência absoluta da variável 'day' (dia da semana)\n",
    "2. Calcule a frequência relativa da variável 'time' (almoço/jantar)\n",
    "3. Crie um gráfico de barras para a variável 'smoker'"
   ]
  },
  {
   "cell_type": "markdown",
   "metadata": {},
   "source": [
    "### Exercício 3.2 - Variáveis Quantitativas"
   ]
  },
  {
   "cell_type": "markdown",
   "metadata": {},
   "source": [
    "1. Gere um resumo descritivo completo da variável 'total_bill'\n",
    "2. Calcule separadamente a média, mediana e desvio padrão de 'tip'\n",
    "3. Crie um histograma da variável 'total_bill' com 8 intervalos\n",
    "4. Crie um boxplot da variável 'tip'"
   ]
  },
  {
   "cell_type": "markdown",
   "metadata": {},
   "source": [
    "### Exercício 3.3 - Quartis e Medidas de Posição"
   ]
  },
  {
   "cell_type": "markdown",
   "metadata": {},
   "source": [
    "1. Calcule os quartis (25%, 50%, 75%) da variável 'total_bill'\n",
    "2. Identifique qual é o valor do percentil 90 da variável 'tip'"
   ]
  },
  {
   "cell_type": "markdown",
   "metadata": {},
   "source": [
    "### Exercício 3.4 - Padronização (Z-score)"
   ]
  },
  {
   "cell_type": "markdown",
   "metadata": {},
   "source": [
    "1. Calcule o Z-score da variável 'total_bill'\n",
    "2. Adicione esta nova variável ao dataset como 'zscore_bill'\n",
    "3. Verifique que a média do Z-score é aproximadamente 0 e o desvio padrão é 1\n",
    "4. Crie dois histogramas lado a lado: um da variável original e outro do Z-score"
   ]
  },
  {
   "cell_type": "markdown",
   "metadata": {},
   "source": [
    "## Parte 4: Medidas de Associação"
   ]
  },
  {
   "cell_type": "markdown",
   "metadata": {},
   "source": [
    "### Exercício 4.1 - Associação entre Variáveis Qualitativas (Dataset Tips)"
   ]
  },
  {
   "cell_type": "markdown",
   "metadata": {},
   "source": [
    "1. Crie uma tabela de contingência entre 'day' e 'time'\n",
    "2. Calcule as frequências relativas por linha (marginal por linha)\n",
    "3. Calcule as frequências relativas por coluna (marginal por coluna)\n",
    "4. Crie um gráfico de barras agrupadas mostrando a relação entre 'day' e 'smoker'"
   ]
  },
  {
   "cell_type": "markdown",
   "metadata": {},
   "source": [
    "### Exercício 4.2 - Associação entre Variáveis Quantitativas (Dataset Iris)"
   ]
  },
  {
   "cell_type": "markdown",
   "metadata": {},
   "source": [
    "1. Crie um gráfico de dispersão entre 'sepal length (cm)' e 'petal length (cm)'\n",
    "2. Calcule a covariância entre essas duas variáveis\n",
    "3. Calcule a correlação entre essas duas variáveis"
   ]
  },
  {
   "cell_type": "markdown",
   "metadata": {},
   "source": [
    "### Exercício 4.3 - Associação entre Variável Quantitativa e Qualitativa\n",
    "**Com dataset Tips:**"
   ]
  },
  {
   "cell_type": "markdown",
   "metadata": {},
   "source": [
    "1. Calcule a média de 'tip' por categoria de 'time' (almoço/jantar)\n",
    "2. Crie um boxplot de 'total_bill' por 'day'\n",
    "3. Faça um gráfico de pontos (pointplot) mostrando a média de 'tip' por 'smoker' com barras de erro\n",
    "**Com dataset Iris:**\n",
    "4. Calcule um resumo descritivo de 'petal width (cm)' por espécie\n",
    "5. Crie boxplots de 'sepal width (cm)' por espécie"
   ]
  },
  {
   "cell_type": "markdown",
   "metadata": {},
   "source": [
    "### Exercício 4.4 - Análises Multivariadas"
   ]
  },
  {
   "cell_type": "markdown",
   "metadata": {},
   "source": [
    "1. **Dataset Tips**: Crie um gráfico de dispersão de 'total_bill' vs 'tip', colorindo os pontos por 'smoker'\n",
    "2. **Dataset Iris**: Faça um pairplot das variáveis quantitativas, colorindo por espécie"
   ]
  },
  {
   "cell_type": "markdown",
   "metadata": {},
   "source": [
    "## Desafios Extras"
   ]
  },
  {
   "cell_type": "markdown",
   "metadata": {},
   "source": [
    "### Desafio 1\n",
    "Usando o dataset Tips, investigue se existe diferença no comportamento de gorjeta entre fumantes e não fumantes em diferentes dias da semana. Use tabelas de contingência e gráficos apropriados."
   ]
  },
  {
   "cell_type": "markdown",
   "metadata": {},
   "source": [
    "### Desafio 2\n",
    "No dataset Iris, identifique qual espécie possui a maior variabilidade nas medidas. Compare os coeficientes de variação (desvio padrão / média) de cada medida para cada espécie."
   ]
  },
  {
   "cell_type": "markdown",
   "metadata": {},
   "source": [
    "### Desafio 3\n",
    "Crie uma nova variável no dataset Tips chamada 'tip_rate' que represente a porcentagem de gorjeta em relação à conta total. Analise essa nova variável descritivamente e investigue sua relação com outras variáveis do dataset."
   ]
  }
 ],
 "metadata": {
  "language_info": {
   "name": "plaintext"
  }
 },
 "nbformat": 4,
 "nbformat_minor": 2
}
